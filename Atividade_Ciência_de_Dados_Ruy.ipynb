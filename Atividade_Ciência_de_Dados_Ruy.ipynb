{
  "nbformat": 4,
  "nbformat_minor": 0,
  "metadata": {
    "colab": {
      "provenance": []
    },
    "kernelspec": {
      "name": "python3",
      "display_name": "Python 3"
    },
    "language_info": {
      "name": "python"
    }
  },
  "cells": [
    {
      "cell_type": "markdown",
      "source": [
        "#**Extrair a info do site escolhido**"
      ],
      "metadata": {
        "id": "fKX-mXNa2kPt"
      }
    },
    {
      "cell_type": "code",
      "execution_count": 11,
      "metadata": {
        "id": "ZZEv6vpxs7Sq"
      },
      "outputs": [],
      "source": [
        "import requests\n",
        "\n",
        "from bs4 import BeautifulSoup"
      ]
    },
    {
      "cell_type": "code",
      "source": [
        "url = 'https://g1.globo.com/'"
      ],
      "metadata": {
        "id": "VfoArNcju9oM"
      },
      "execution_count": 12,
      "outputs": []
    },
    {
      "cell_type": "code",
      "source": [
        "response = requests.get(url)\n",
        "\n",
        "response.status_code"
      ],
      "metadata": {
        "colab": {
          "base_uri": "https://localhost:8080/"
        },
        "id": "ukwF1OG4vD0M",
        "outputId": "7cf4d68e-469f-433b-f01a-6e09c9e2cecb"
      },
      "execution_count": 13,
      "outputs": [
        {
          "output_type": "execute_result",
          "data": {
            "text/plain": [
              "200"
            ]
          },
          "metadata": {},
          "execution_count": 13
        }
      ]
    },
    {
      "cell_type": "code",
      "source": [
        "sp = BeautifulSoup(response.text, 'html.parser')"
      ],
      "metadata": {
        "id": "bmzeQo5YvOgj"
      },
      "execution_count": 14,
      "outputs": []
    },
    {
      "cell_type": "code",
      "source": [
        "title = sp.find('title').text\n",
        "title"
      ],
      "metadata": {
        "colab": {
          "base_uri": "https://localhost:8080/",
          "height": 35
        },
        "id": "cnhzSyk9vruk",
        "outputId": "8c1045b2-82b0-4e38-9e2f-150f4fd92309"
      },
      "execution_count": 15,
      "outputs": [
        {
          "output_type": "execute_result",
          "data": {
            "text/plain": [
              "'g1 - O portal de notícias da Globo'"
            ],
            "application/vnd.google.colaboratory.intrinsic+json": {
              "type": "string"
            }
          },
          "metadata": {},
          "execution_count": 15
        }
      ]
    },
    {
      "cell_type": "code",
      "source": [
        "headings = sp.find_all(class_='gui-color-primary')"
      ],
      "metadata": {
        "id": "RuTWsV8ww9Hp"
      },
      "execution_count": 16,
      "outputs": []
    },
    {
      "cell_type": "code",
      "source": [
        "headings"
      ],
      "metadata": {
        "colab": {
          "base_uri": "https://localhost:8080/"
        },
        "id": "0raBjfZoxPch",
        "outputId": "a4a6b86b-33a5-4277-8a52-f9448ca8a028"
      },
      "execution_count": 17,
      "outputs": [
        {
          "output_type": "execute_result",
          "data": {
            "text/plain": [
              "[<div class=\"feed-post-body-title gui-color-primary gui-color-hover\"><div class=\"_evt\"><h2><a class=\"feed-post-link gui-color-primary gui-color-hover\" href=\"https://g1.globo.com/politica/noticia/2024/04/09/moraes-nega-pedido-da-x-no-brasil-para-que-o-stf-lide-diretamente-com-a-matriz-da-empresa.ghtml\"><p elementtiming=\"text-ssr\">Moraes nega pedido do X para se isentar de ordens judiciais: 'Má-fé'</p></a></h2></div></div>,\n",
              " <a class=\"feed-post-link gui-color-primary gui-color-hover\" href=\"https://g1.globo.com/politica/noticia/2024/04/09/moraes-nega-pedido-da-x-no-brasil-para-que-o-stf-lide-diretamente-com-a-matriz-da-empresa.ghtml\"><p elementtiming=\"text-ssr\">Moraes nega pedido do X para se isentar de ordens judiciais: 'Má-fé'</p></a>,\n",
              " <div class=\"feed-post-body-title gui-color-primary gui-color-hover\"><div class=\"_evt\"><h2><a class=\"feed-post-link gui-color-primary gui-color-hover\" href=\"https://g1.globo.com/politica/noticia/2024/04/09/lideres-da-camara-decidem-mudar-o-relator-e-criar-grupo-para-debater-o-projeto-da-regulacao-das-redes.ghtml\"><p elementtiming=\"text-ssr\">PL das Redes Sociais: Câmara vai mudar relator e rediscutirá projeto</p></a></h2></div></div>,\n",
              " <a class=\"feed-post-link gui-color-primary gui-color-hover\" href=\"https://g1.globo.com/politica/noticia/2024/04/09/lideres-da-camara-decidem-mudar-o-relator-e-criar-grupo-para-debater-o-projeto-da-regulacao-das-redes.ghtml\"><p elementtiming=\"text-ssr\">PL das Redes Sociais: Câmara vai mudar relator e rediscutirá projeto</p></a>,\n",
              " <a class=\"gui-color-primary gui-color-hover feed-post-body-title bstn-relatedtext\" href=\"https://g1.globo.com/politica/noticia/2024/04/09/questionado-lira-diz-que-nao-vai-comentar-ataques-de-musk-a-moraes.ghtml\">'Não tenho nada a comentar sobre isso', diz Lira sobre Musk</a>,\n",
              " <a class=\"gui-color-primary gui-color-hover feed-post-body-title bstn-relatedtext\" href=\"https://g1.globo.com/politica/noticia/2024/04/09/comissao-do-senado-convida-elon-musk-para-audiencia-sobre-bloqueio-de-perfis-em-redes-sociais.ghtml\">Comissão do Senado quer ouvir Elon Musk</a>,\n",
              " <a class=\"gui-color-primary gui-color-hover feed-post-body-title bstn-relatedtext\" href=\"https://g1.globo.com/politica/noticia/2024/04/09/em-discurso-lula-manda-indireta-para-elon-musk.ghtml\">Lula manda indireta a 'bilionário fazendo foguete'</a>,\n",
              " <div class=\"feed-post-body-title gui-color-primary gui-color-hover\"><div class=\"_evt\"><h2><a class=\"feed-post-link gui-color-primary gui-color-hover\" href=\"https://g1.globo.com/economia/noticia/2024/04/09/lula-assina-mp-para-reduzir-conta-de-luz-e-ampliar-subsidios-a-fontes-renovaveis-em-r-45-bi.ghtml\"><p elementtiming=\"text-ssr\">Lula assina medida para tentar reduzir conta de luz</p></a></h2></div></div>,\n",
              " <a class=\"feed-post-link gui-color-primary gui-color-hover\" href=\"https://g1.globo.com/economia/noticia/2024/04/09/lula-assina-mp-para-reduzir-conta-de-luz-e-ampliar-subsidios-a-fontes-renovaveis-em-r-45-bi.ghtml\"><p elementtiming=\"text-ssr\">Lula assina medida para tentar reduzir conta de luz</p></a>,\n",
              " <div class=\"feed-post-body-title gui-color-primary gui-color-hover\"><div class=\"_evt\"><h2><a class=\"feed-post-link gui-color-primary gui-color-hover\" href=\"https://g1.globo.com/sp/piracicaba-regiao/noticia/2024/04/09/quadrilha-que-explodiu-banco-em-sao-pedro-usou-carro-furtado-do-deputado-da-cunha.ghtml\"><p elementtiming=\"text-ssr\">Quadrilha que explodiu banco usou carro furtado do deputado Da Cunha</p></a></h2></div></div>,\n",
              " <a class=\"feed-post-link gui-color-primary gui-color-hover\" href=\"https://g1.globo.com/sp/piracicaba-regiao/noticia/2024/04/09/quadrilha-que-explodiu-banco-em-sao-pedro-usou-carro-furtado-do-deputado-da-cunha.ghtml\"><p elementtiming=\"text-ssr\">Quadrilha que explodiu banco usou carro furtado do deputado Da Cunha</p></a>,\n",
              " <a class=\"gui-color-primary gui-color-hover feed-post-body-title bstn-relatedtext\" href=\"https://g1.globo.com/sp/piracicaba-regiao/noticia/2024/04/09/ataques-a-carros-fortes-e-agencia-bancaria-na-regiao-de-piracicaba-o-que-se-sabe-e-o-que-falta-saber.ghtml\">Foram 3 ataques em dois dias; polícia investiga ligação entre casos</a>,\n",
              " <div class=\"feed-post-body-title gui-color-primary gui-color-hover\"><div class=\"_evt\"><h2><a class=\"feed-post-link gui-color-primary gui-color-hover\" href=\"https://g1.globo.com/sp/sao-paulo/noticia/2024/04/09/entenda-como-funcionava-esquema-entre-empresas-de-onibus-suspeitas-de-envolvimento-com-pcc-em-sao-paulo.ghtml\"><p elementtiming=\"text-ssr\">Como o PCC usou ônibus para lavar dinheiro, segundo investigação</p></a></h2></div></div>,\n",
              " <a class=\"feed-post-link gui-color-primary gui-color-hover\" href=\"https://g1.globo.com/sp/sao-paulo/noticia/2024/04/09/entenda-como-funcionava-esquema-entre-empresas-de-onibus-suspeitas-de-envolvimento-com-pcc-em-sao-paulo.ghtml\"><p elementtiming=\"text-ssr\">Como o PCC usou ônibus para lavar dinheiro, segundo investigação</p></a>,\n",
              " <div class=\"feed-post-body-title gui-color-primary gui-color-hover\"><div class=\"_evt\"><h2><a class=\"feed-post-link gui-color-primary gui-color-hover\" href=\"https://g1.globo.com/mundo/noticia/2024/04/09/imagens-mostram-policiais-do-equador-invadindo-embaixada-do-mexico-e-arrancando-a-forca-ex-vice-presidente-video.ghtml\"><p elementtiming=\"text-ssr\">Novo vídeo mostra polícia do Equador invadindo embaixada do México</p></a></h2></div></div>,\n",
              " <a class=\"feed-post-link gui-color-primary gui-color-hover\" href=\"https://g1.globo.com/mundo/noticia/2024/04/09/imagens-mostram-policiais-do-equador-invadindo-embaixada-do-mexico-e-arrancando-a-forca-ex-vice-presidente-video.ghtml\"><p elementtiming=\"text-ssr\">Novo vídeo mostra polícia do Equador invadindo embaixada do México</p></a>,\n",
              " <div class=\"feed-post-body-title gui-color-primary gui-color-hover\"><div class=\"_evt\"><h2><a class=\"feed-post-link gui-color-primary gui-color-hover\" href=\"https://g1.globo.com/ba/bahia/noticia/2024/04/09/suspeito-de-hackear-sites-do-senado-exercito-e-tse-e-preso-na-ba.ghtml\"><p elementtiming=\"text-ssr\">Suspeito pelo maior vazamento de dados do país é preso na Bahia</p></a></h2></div></div>,\n",
              " <a class=\"feed-post-link gui-color-primary gui-color-hover\" href=\"https://g1.globo.com/ba/bahia/noticia/2024/04/09/suspeito-de-hackear-sites-do-senado-exercito-e-tse-e-preso-na-ba.ghtml\"><p elementtiming=\"text-ssr\">Suspeito pelo maior vazamento de dados do país é preso na Bahia</p></a>]"
            ]
          },
          "metadata": {},
          "execution_count": 17
        }
      ]
    },
    {
      "cell_type": "code",
      "source": [
        "!pip install python-dotenv"
      ],
      "metadata": {
        "colab": {
          "base_uri": "https://localhost:8080/"
        },
        "id": "gf4uR2sl_iWs",
        "outputId": "5e8b3341-ff1f-4cd1-cf83-4e755b96a2b2"
      },
      "execution_count": 2,
      "outputs": [
        {
          "output_type": "stream",
          "name": "stdout",
          "text": [
            "Collecting python-dotenv\n",
            "  Downloading python_dotenv-1.0.1-py3-none-any.whl (19 kB)\n",
            "Installing collected packages: python-dotenv\n",
            "Successfully installed python-dotenv-1.0.1\n"
          ]
        }
      ]
    },
    {
      "cell_type": "code",
      "source": [
        "import os\n",
        "from dotenv import load_dotenv\n",
        "\n",
        "smtp_password = os.getenv('SENHA_GOOGLE')\n",
        "\n",
        "load_dotenv()  # take environment variables from .env."
      ],
      "metadata": {
        "colab": {
          "base_uri": "https://localhost:8080/"
        },
        "id": "N97gXgca_k2T",
        "outputId": "d2798eb8-640b-45c5-c91a-daedafd3bd4b"
      },
      "execution_count": 9,
      "outputs": [
        {
          "output_type": "execute_result",
          "data": {
            "text/plain": [
              "True"
            ]
          },
          "metadata": {},
          "execution_count": 9
        }
      ]
    },
    {
      "cell_type": "markdown",
      "source": [
        "#**Formatar um e-mail**"
      ],
      "metadata": {
        "id": "AL3hRjPt8XKw"
      }
    },
    {
      "cell_type": "code",
      "source": [
        "import smtplib\n",
        "from email.mime.text import MIMEText\n",
        "from email.mime.multipart import MIMEMultipart\n",
        "\n",
        "smtp_server = 'smtp.gmail.com'\n",
        "smtp_port = 587\n",
        "smtp_user = 'ruy.rodrigues@edu.unifil.br'\n",
        "\n",
        "destinatarios = ['ruy.rodrigues@edu.unifil.br', 'mario.adaniya@unifil.br']\n",
        "titulo = 'Atividade em aula - Formatar um email'\n",
        "assunto = '[ds101] - Ruy'\n",
        "\n",
        "mensagem = MIMEMultipart()\n",
        "mensagem['From'] = smtp_user\n",
        "mensagem['To'] = ', '.join(destinatarios)\n",
        "mensagem['Subject'] = titulo\n",
        "\n",
        "html = f\"\"\"\n",
        "<html>\n",
        "  <body>\n",
        "    <p>Olá,<br>\n",
        "       Título da Página: {title}<br>\n",
        "       Cabeçalhos Encontrados: {', '.join([h.text for h in headings])}\n",
        "    </p>\n",
        "  </body>\n",
        "</html>\n",
        "\"\"\"\n",
        "\n",
        "# Anexar o conteúdo ao e-mail\n",
        "part = MIMEText(html, \"html\")\n",
        "mensagem.attach(MIMEText(assunto, 'plain'))\n",
        "mensagem.attach(part)\n",
        "\n",
        "with smtplib.SMTP(smtp_server, smtp_port) as server:\n",
        "    server.starttls()\n",
        "    server.login(smtp_user, smtp_password)\n",
        "\n",
        "    server.sendmail(smtp_user, destinatarios, mensagem.as_string())\n",
        "\n",
        "print(\"Email enviado.\")\n"
      ],
      "metadata": {
        "colab": {
          "base_uri": "https://localhost:8080/"
        },
        "id": "K-i3xw058djy",
        "outputId": "f0dd6ee5-543c-4184-d6fa-d9d2a5af4af5"
      },
      "execution_count": 23,
      "outputs": [
        {
          "output_type": "stream",
          "name": "stdout",
          "text": [
            "Email enviado.\n"
          ]
        }
      ]
    }
  ]
}